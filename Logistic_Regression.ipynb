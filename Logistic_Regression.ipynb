{
  "nbformat": 4,
  "nbformat_minor": 0,
  "metadata": {
    "colab": {
      "provenance": [],
      "authorship_tag": "ABX9TyPk57/LHLrr5dBi40Sx7mIE"
    },
    "kernelspec": {
      "name": "python3",
      "display_name": "Python 3"
    },
    "language_info": {
      "name": "python"
    }
  },
  "cells": [
    {
      "cell_type": "markdown",
      "source": [
        "#  Logistic Regression\n",
        "\n",
        "Project Overview\n",
        "\n",
        "This project demonstrates the process of creating a binary classification model with logistic regression to predict survey respondents who smoke cigarettes.\n",
        "\n",
        "\n",
        "##What is Logistic Regression?\n",
        "\n",
        "Logistic regression is a classification technique that gives the probabilistic output of dependent categorical values based on certain independent variables.\n",
        "\n",
        "## Objectives\n",
        "\n",
        "*   Build and evaluate a logistic regression model to classify smokers (1 = smoker, 0 = non-smoker) based on various predictors.\n",
        "*   Data source: Population health-related survey dataset \n"
      ],
      "metadata": {
        "id": "RktRG-_-7347"
      }
    },
    {
      "cell_type": "markdown",
      "source": [
        "<h2>Table of Contents</h2>\n",
        "\n",
        "<div class=\"alert alert-block alert-info\" style=\"margin-top: 20px\">\n",
        "<ol>\n",
        "\n",
        "\n",
        "1. [Import Data](#import)\n",
        "2. [Model Pre-Processing](#mpp)\n",
        "3. [Logistic Regression Model](#lrm)\n",
        "4. [Model Accuracy Evaluation](#mae)\n",
        "5. [Conclusions](#con)\n",
        "\n",
        "\n",
        "\n",
        "\n",
        "\n",
        "\n",
        "\n",
        "\n"
      ],
      "metadata": {
        "id": "OyHx0iQaoW_P"
      }
    },
    {
      "cell_type": "markdown",
      "metadata": {
        "id": "avdoZl1f6mPP"
      },
      "source": [
        "## Import Data <a name=\"import\"></a>\n"
      ]
    },
    {
      "cell_type": "markdown",
      "metadata": {
        "id": "UJF0GoEF6mPP"
      },
      "source": [
        "Import libraries:\n"
      ]
    },
    {
      "cell_type": "code",
      "source": [
        "import pandas as pd\n",
        "import pylab as pl\n",
        "import numpy as np\n",
        "import scipy.optimize as opt\n",
        "from sklearn import preprocessing\n",
        "from sklearn.impute import SimpleImputer\n",
        "%matplotlib inline \n",
        "import matplotlib.pyplot as plt\n",
        "import seaborn as sns\n",
        "from sklearn.metrics import confusion_matrix, precision_score, recall_score, auc, roc_curve, roc_auc_score, accuracy_score, classification_report "
      ],
      "metadata": {
        "id": "Y7DlCQdJe03t"
      },
      "execution_count": 1,
      "outputs": []
    },
    {
      "cell_type": "markdown",
      "metadata": {
        "id": "nhUqhNNR6mPQ"
      },
      "source": [
        "Load the data and store it in dataframe `df`:\n"
      ]
    },
    {
      "cell_type": "code",
      "source": [
        "# Read in data and limit dataset to only columns of interest\n",
        "url = \"https://raw.githubusercontent.com/dandersonghub/Logistic_Regression/main/nhanes.csv\"\n",
        "df = pd.read_csv(url)\n",
        "\n",
        "\n",
        "# Drop all columns below not included in model\n",
        "df.drop(columns=['SEQN','ALQ110','ALQ130','WTINT2YR', 'SDMVPSU','SDMVSTRA','HIQ210'], inplace=True)\n",
        "\n",
        "\n",
        "# Change column names for clarity\n",
        "df.rename(columns={'BPXSY1':'SBP','BPXDI1':'DBP', 'RIDAGEYR': 'AGE', 'RIAGENDR':'GENDER','RIDRETH1': 'RACE', \n",
        "                   'DMDEDUC2':'EDUCATION', 'BMXBMI': 'BMI', 'BMXWT':'WEIGHT', 'SMQ020': 'CIGSMK'}, inplace=True)\n",
        "\n",
        "df[\"CIGSMK\"] = df.CIGSMK.replace({2: 0, 7: 0, 9: 0})\n",
        "\n",
        "# Replace missings in \"EDUCATION\" column with most frequent value (4)\n",
        "df[\"EDUCATION\"].replace(np.nan, 4, inplace=True)\n",
        "\n",
        "df"
      ],
      "metadata": {
        "id": "Tgz36SsD_kmL",
        "colab": {
          "base_uri": "https://localhost:8080/",
          "height": 488
        },
        "outputId": "49ca159b-ec1a-4e51-be7f-790554936afb"
      },
      "execution_count": 2,
      "outputs": [
        {
          "output_type": "execute_result",
          "data": {
            "text/plain": [
              "      ALQ101  CIGSMK  GENDER  AGE  RACE  DMDCITZN  EDUCATION  DMDMARTL  \\\n",
              "0        1.0       1       1   62     3       1.0        5.0       1.0   \n",
              "1        1.0       1       1   53     3       2.0        3.0       3.0   \n",
              "2        1.0       1       1   78     3       1.0        3.0       1.0   \n",
              "3        2.0       0       2   56     3       1.0        5.0       6.0   \n",
              "4        2.0       0       2   42     4       1.0        4.0       3.0   \n",
              "...      ...     ...     ...  ...   ...       ...        ...       ...   \n",
              "5730     2.0       1       2   76     3       1.0        3.0       2.0   \n",
              "5731     2.0       0       1   26     3       1.0        5.0       1.0   \n",
              "5732     1.0       1       2   80     3       1.0        4.0       2.0   \n",
              "5733     NaN       1       1   35     3       2.0        1.0       1.0   \n",
              "5734     1.0       0       2   24     3       1.0        5.0       5.0   \n",
              "\n",
              "      DMDHHSIZ  INDFMPIR  ...   DBP  BPXSY2  BPXDI2  WEIGHT  BMXHT   BMI  \\\n",
              "0            2      4.39  ...  70.0   124.0    64.0    94.8  184.5  27.8   \n",
              "1            1      1.32  ...  88.0   140.0    88.0    90.4  171.4  30.8   \n",
              "2            2      1.51  ...  46.0   132.0    44.0    83.4  170.1  28.8   \n",
              "3            1      5.00  ...  72.0   134.0    68.0   109.8  160.9  42.4   \n",
              "4            5      1.23  ...  70.0   114.0    54.0    55.2  164.9  20.3   \n",
              "...        ...       ...  ...   ...     ...     ...     ...    ...   ...   \n",
              "5730         1      1.43  ...  48.0   112.0    46.0    59.1  165.8  21.5   \n",
              "5731         3      2.99  ...  68.0   116.0    76.0   112.1  182.2  33.8   \n",
              "5732         1      2.97  ...  56.0   146.0    58.0    71.7  152.2  31.0   \n",
              "5733         5      0.00  ...  62.0   106.0    66.0    78.2  173.3  26.0   \n",
              "5734         3      3.54  ...  66.0   114.0    68.0    58.3  165.0  21.4   \n",
              "\n",
              "      BMXLEG  BMXARML  BMXARMC  BMXWAIST  \n",
              "0       43.3     43.6     35.9     101.1  \n",
              "1       38.0     40.0     33.2     107.9  \n",
              "2       35.6     37.0     31.0     116.5  \n",
              "3       38.5     37.7     38.3     110.1  \n",
              "4       37.4     36.0     27.2      80.4  \n",
              "...      ...      ...      ...       ...  \n",
              "5730    38.2     37.0     29.5      95.0  \n",
              "5731    43.4     41.8     42.3     110.2  \n",
              "5732    31.3     37.5     28.8       NaN  \n",
              "5733    40.3     37.5     30.6      98.9  \n",
              "5734    38.2     33.5     26.2      72.5  \n",
              "\n",
              "[5735 rows x 21 columns]"
            ],
            "text/html": [
              "\n",
              "  <div id=\"df-f47b48d4-fc20-4ed6-ad06-f0033872af00\">\n",
              "    <div class=\"colab-df-container\">\n",
              "      <div>\n",
              "<style scoped>\n",
              "    .dataframe tbody tr th:only-of-type {\n",
              "        vertical-align: middle;\n",
              "    }\n",
              "\n",
              "    .dataframe tbody tr th {\n",
              "        vertical-align: top;\n",
              "    }\n",
              "\n",
              "    .dataframe thead th {\n",
              "        text-align: right;\n",
              "    }\n",
              "</style>\n",
              "<table border=\"1\" class=\"dataframe\">\n",
              "  <thead>\n",
              "    <tr style=\"text-align: right;\">\n",
              "      <th></th>\n",
              "      <th>ALQ101</th>\n",
              "      <th>CIGSMK</th>\n",
              "      <th>GENDER</th>\n",
              "      <th>AGE</th>\n",
              "      <th>RACE</th>\n",
              "      <th>DMDCITZN</th>\n",
              "      <th>EDUCATION</th>\n",
              "      <th>DMDMARTL</th>\n",
              "      <th>DMDHHSIZ</th>\n",
              "      <th>INDFMPIR</th>\n",
              "      <th>...</th>\n",
              "      <th>DBP</th>\n",
              "      <th>BPXSY2</th>\n",
              "      <th>BPXDI2</th>\n",
              "      <th>WEIGHT</th>\n",
              "      <th>BMXHT</th>\n",
              "      <th>BMI</th>\n",
              "      <th>BMXLEG</th>\n",
              "      <th>BMXARML</th>\n",
              "      <th>BMXARMC</th>\n",
              "      <th>BMXWAIST</th>\n",
              "    </tr>\n",
              "  </thead>\n",
              "  <tbody>\n",
              "    <tr>\n",
              "      <th>0</th>\n",
              "      <td>1.0</td>\n",
              "      <td>1</td>\n",
              "      <td>1</td>\n",
              "      <td>62</td>\n",
              "      <td>3</td>\n",
              "      <td>1.0</td>\n",
              "      <td>5.0</td>\n",
              "      <td>1.0</td>\n",
              "      <td>2</td>\n",
              "      <td>4.39</td>\n",
              "      <td>...</td>\n",
              "      <td>70.0</td>\n",
              "      <td>124.0</td>\n",
              "      <td>64.0</td>\n",
              "      <td>94.8</td>\n",
              "      <td>184.5</td>\n",
              "      <td>27.8</td>\n",
              "      <td>43.3</td>\n",
              "      <td>43.6</td>\n",
              "      <td>35.9</td>\n",
              "      <td>101.1</td>\n",
              "    </tr>\n",
              "    <tr>\n",
              "      <th>1</th>\n",
              "      <td>1.0</td>\n",
              "      <td>1</td>\n",
              "      <td>1</td>\n",
              "      <td>53</td>\n",
              "      <td>3</td>\n",
              "      <td>2.0</td>\n",
              "      <td>3.0</td>\n",
              "      <td>3.0</td>\n",
              "      <td>1</td>\n",
              "      <td>1.32</td>\n",
              "      <td>...</td>\n",
              "      <td>88.0</td>\n",
              "      <td>140.0</td>\n",
              "      <td>88.0</td>\n",
              "      <td>90.4</td>\n",
              "      <td>171.4</td>\n",
              "      <td>30.8</td>\n",
              "      <td>38.0</td>\n",
              "      <td>40.0</td>\n",
              "      <td>33.2</td>\n",
              "      <td>107.9</td>\n",
              "    </tr>\n",
              "    <tr>\n",
              "      <th>2</th>\n",
              "      <td>1.0</td>\n",
              "      <td>1</td>\n",
              "      <td>1</td>\n",
              "      <td>78</td>\n",
              "      <td>3</td>\n",
              "      <td>1.0</td>\n",
              "      <td>3.0</td>\n",
              "      <td>1.0</td>\n",
              "      <td>2</td>\n",
              "      <td>1.51</td>\n",
              "      <td>...</td>\n",
              "      <td>46.0</td>\n",
              "      <td>132.0</td>\n",
              "      <td>44.0</td>\n",
              "      <td>83.4</td>\n",
              "      <td>170.1</td>\n",
              "      <td>28.8</td>\n",
              "      <td>35.6</td>\n",
              "      <td>37.0</td>\n",
              "      <td>31.0</td>\n",
              "      <td>116.5</td>\n",
              "    </tr>\n",
              "    <tr>\n",
              "      <th>3</th>\n",
              "      <td>2.0</td>\n",
              "      <td>0</td>\n",
              "      <td>2</td>\n",
              "      <td>56</td>\n",
              "      <td>3</td>\n",
              "      <td>1.0</td>\n",
              "      <td>5.0</td>\n",
              "      <td>6.0</td>\n",
              "      <td>1</td>\n",
              "      <td>5.00</td>\n",
              "      <td>...</td>\n",
              "      <td>72.0</td>\n",
              "      <td>134.0</td>\n",
              "      <td>68.0</td>\n",
              "      <td>109.8</td>\n",
              "      <td>160.9</td>\n",
              "      <td>42.4</td>\n",
              "      <td>38.5</td>\n",
              "      <td>37.7</td>\n",
              "      <td>38.3</td>\n",
              "      <td>110.1</td>\n",
              "    </tr>\n",
              "    <tr>\n",
              "      <th>4</th>\n",
              "      <td>2.0</td>\n",
              "      <td>0</td>\n",
              "      <td>2</td>\n",
              "      <td>42</td>\n",
              "      <td>4</td>\n",
              "      <td>1.0</td>\n",
              "      <td>4.0</td>\n",
              "      <td>3.0</td>\n",
              "      <td>5</td>\n",
              "      <td>1.23</td>\n",
              "      <td>...</td>\n",
              "      <td>70.0</td>\n",
              "      <td>114.0</td>\n",
              "      <td>54.0</td>\n",
              "      <td>55.2</td>\n",
              "      <td>164.9</td>\n",
              "      <td>20.3</td>\n",
              "      <td>37.4</td>\n",
              "      <td>36.0</td>\n",
              "      <td>27.2</td>\n",
              "      <td>80.4</td>\n",
              "    </tr>\n",
              "    <tr>\n",
              "      <th>...</th>\n",
              "      <td>...</td>\n",
              "      <td>...</td>\n",
              "      <td>...</td>\n",
              "      <td>...</td>\n",
              "      <td>...</td>\n",
              "      <td>...</td>\n",
              "      <td>...</td>\n",
              "      <td>...</td>\n",
              "      <td>...</td>\n",
              "      <td>...</td>\n",
              "      <td>...</td>\n",
              "      <td>...</td>\n",
              "      <td>...</td>\n",
              "      <td>...</td>\n",
              "      <td>...</td>\n",
              "      <td>...</td>\n",
              "      <td>...</td>\n",
              "      <td>...</td>\n",
              "      <td>...</td>\n",
              "      <td>...</td>\n",
              "      <td>...</td>\n",
              "    </tr>\n",
              "    <tr>\n",
              "      <th>5730</th>\n",
              "      <td>2.0</td>\n",
              "      <td>1</td>\n",
              "      <td>2</td>\n",
              "      <td>76</td>\n",
              "      <td>3</td>\n",
              "      <td>1.0</td>\n",
              "      <td>3.0</td>\n",
              "      <td>2.0</td>\n",
              "      <td>1</td>\n",
              "      <td>1.43</td>\n",
              "      <td>...</td>\n",
              "      <td>48.0</td>\n",
              "      <td>112.0</td>\n",
              "      <td>46.0</td>\n",
              "      <td>59.1</td>\n",
              "      <td>165.8</td>\n",
              "      <td>21.5</td>\n",
              "      <td>38.2</td>\n",
              "      <td>37.0</td>\n",
              "      <td>29.5</td>\n",
              "      <td>95.0</td>\n",
              "    </tr>\n",
              "    <tr>\n",
              "      <th>5731</th>\n",
              "      <td>2.0</td>\n",
              "      <td>0</td>\n",
              "      <td>1</td>\n",
              "      <td>26</td>\n",
              "      <td>3</td>\n",
              "      <td>1.0</td>\n",
              "      <td>5.0</td>\n",
              "      <td>1.0</td>\n",
              "      <td>3</td>\n",
              "      <td>2.99</td>\n",
              "      <td>...</td>\n",
              "      <td>68.0</td>\n",
              "      <td>116.0</td>\n",
              "      <td>76.0</td>\n",
              "      <td>112.1</td>\n",
              "      <td>182.2</td>\n",
              "      <td>33.8</td>\n",
              "      <td>43.4</td>\n",
              "      <td>41.8</td>\n",
              "      <td>42.3</td>\n",
              "      <td>110.2</td>\n",
              "    </tr>\n",
              "    <tr>\n",
              "      <th>5732</th>\n",
              "      <td>1.0</td>\n",
              "      <td>1</td>\n",
              "      <td>2</td>\n",
              "      <td>80</td>\n",
              "      <td>3</td>\n",
              "      <td>1.0</td>\n",
              "      <td>4.0</td>\n",
              "      <td>2.0</td>\n",
              "      <td>1</td>\n",
              "      <td>2.97</td>\n",
              "      <td>...</td>\n",
              "      <td>56.0</td>\n",
              "      <td>146.0</td>\n",
              "      <td>58.0</td>\n",
              "      <td>71.7</td>\n",
              "      <td>152.2</td>\n",
              "      <td>31.0</td>\n",
              "      <td>31.3</td>\n",
              "      <td>37.5</td>\n",
              "      <td>28.8</td>\n",
              "      <td>NaN</td>\n",
              "    </tr>\n",
              "    <tr>\n",
              "      <th>5733</th>\n",
              "      <td>NaN</td>\n",
              "      <td>1</td>\n",
              "      <td>1</td>\n",
              "      <td>35</td>\n",
              "      <td>3</td>\n",
              "      <td>2.0</td>\n",
              "      <td>1.0</td>\n",
              "      <td>1.0</td>\n",
              "      <td>5</td>\n",
              "      <td>0.00</td>\n",
              "      <td>...</td>\n",
              "      <td>62.0</td>\n",
              "      <td>106.0</td>\n",
              "      <td>66.0</td>\n",
              "      <td>78.2</td>\n",
              "      <td>173.3</td>\n",
              "      <td>26.0</td>\n",
              "      <td>40.3</td>\n",
              "      <td>37.5</td>\n",
              "      <td>30.6</td>\n",
              "      <td>98.9</td>\n",
              "    </tr>\n",
              "    <tr>\n",
              "      <th>5734</th>\n",
              "      <td>1.0</td>\n",
              "      <td>0</td>\n",
              "      <td>2</td>\n",
              "      <td>24</td>\n",
              "      <td>3</td>\n",
              "      <td>1.0</td>\n",
              "      <td>5.0</td>\n",
              "      <td>5.0</td>\n",
              "      <td>3</td>\n",
              "      <td>3.54</td>\n",
              "      <td>...</td>\n",
              "      <td>66.0</td>\n",
              "      <td>114.0</td>\n",
              "      <td>68.0</td>\n",
              "      <td>58.3</td>\n",
              "      <td>165.0</td>\n",
              "      <td>21.4</td>\n",
              "      <td>38.2</td>\n",
              "      <td>33.5</td>\n",
              "      <td>26.2</td>\n",
              "      <td>72.5</td>\n",
              "    </tr>\n",
              "  </tbody>\n",
              "</table>\n",
              "<p>5735 rows × 21 columns</p>\n",
              "</div>\n",
              "      <button class=\"colab-df-convert\" onclick=\"convertToInteractive('df-f47b48d4-fc20-4ed6-ad06-f0033872af00')\"\n",
              "              title=\"Convert this dataframe to an interactive table.\"\n",
              "              style=\"display:none;\">\n",
              "        \n",
              "  <svg xmlns=\"http://www.w3.org/2000/svg\" height=\"24px\"viewBox=\"0 0 24 24\"\n",
              "       width=\"24px\">\n",
              "    <path d=\"M0 0h24v24H0V0z\" fill=\"none\"/>\n",
              "    <path d=\"M18.56 5.44l.94 2.06.94-2.06 2.06-.94-2.06-.94-.94-2.06-.94 2.06-2.06.94zm-11 1L8.5 8.5l.94-2.06 2.06-.94-2.06-.94L8.5 2.5l-.94 2.06-2.06.94zm10 10l.94 2.06.94-2.06 2.06-.94-2.06-.94-.94-2.06-.94 2.06-2.06.94z\"/><path d=\"M17.41 7.96l-1.37-1.37c-.4-.4-.92-.59-1.43-.59-.52 0-1.04.2-1.43.59L10.3 9.45l-7.72 7.72c-.78.78-.78 2.05 0 2.83L4 21.41c.39.39.9.59 1.41.59.51 0 1.02-.2 1.41-.59l7.78-7.78 2.81-2.81c.8-.78.8-2.07 0-2.86zM5.41 20L4 18.59l7.72-7.72 1.47 1.35L5.41 20z\"/>\n",
              "  </svg>\n",
              "      </button>\n",
              "      \n",
              "  <style>\n",
              "    .colab-df-container {\n",
              "      display:flex;\n",
              "      flex-wrap:wrap;\n",
              "      gap: 12px;\n",
              "    }\n",
              "\n",
              "    .colab-df-convert {\n",
              "      background-color: #E8F0FE;\n",
              "      border: none;\n",
              "      border-radius: 50%;\n",
              "      cursor: pointer;\n",
              "      display: none;\n",
              "      fill: #1967D2;\n",
              "      height: 32px;\n",
              "      padding: 0 0 0 0;\n",
              "      width: 32px;\n",
              "    }\n",
              "\n",
              "    .colab-df-convert:hover {\n",
              "      background-color: #E2EBFA;\n",
              "      box-shadow: 0px 1px 2px rgba(60, 64, 67, 0.3), 0px 1px 3px 1px rgba(60, 64, 67, 0.15);\n",
              "      fill: #174EA6;\n",
              "    }\n",
              "\n",
              "    [theme=dark] .colab-df-convert {\n",
              "      background-color: #3B4455;\n",
              "      fill: #D2E3FC;\n",
              "    }\n",
              "\n",
              "    [theme=dark] .colab-df-convert:hover {\n",
              "      background-color: #434B5C;\n",
              "      box-shadow: 0px 1px 3px 1px rgba(0, 0, 0, 0.15);\n",
              "      filter: drop-shadow(0px 1px 2px rgba(0, 0, 0, 0.3));\n",
              "      fill: #FFFFFF;\n",
              "    }\n",
              "  </style>\n",
              "\n",
              "      <script>\n",
              "        const buttonEl =\n",
              "          document.querySelector('#df-f47b48d4-fc20-4ed6-ad06-f0033872af00 button.colab-df-convert');\n",
              "        buttonEl.style.display =\n",
              "          google.colab.kernel.accessAllowed ? 'block' : 'none';\n",
              "\n",
              "        async function convertToInteractive(key) {\n",
              "          const element = document.querySelector('#df-f47b48d4-fc20-4ed6-ad06-f0033872af00');\n",
              "          const dataTable =\n",
              "            await google.colab.kernel.invokeFunction('convertToInteractive',\n",
              "                                                     [key], {});\n",
              "          if (!dataTable) return;\n",
              "\n",
              "          const docLinkHtml = 'Like what you see? Visit the ' +\n",
              "            '<a target=\"_blank\" href=https://colab.research.google.com/notebooks/data_table.ipynb>data table notebook</a>'\n",
              "            + ' to learn more about interactive tables.';\n",
              "          element.innerHTML = '';\n",
              "          dataTable['output_type'] = 'display_data';\n",
              "          await google.colab.output.renderOutput(dataTable, element);\n",
              "          const docLink = document.createElement('div');\n",
              "          docLink.innerHTML = docLinkHtml;\n",
              "          element.appendChild(docLink);\n",
              "        }\n",
              "      </script>\n",
              "    </div>\n",
              "  </div>\n",
              "  "
            ]
          },
          "metadata": {},
          "execution_count": 2
        }
      ]
    },
    {
      "cell_type": "code",
      "source": [
        "# Display all columns of interest and data types\n",
        "# Predictor columns include demographic data such as age, race, gender, education, etc. \n",
        "# Predictor columns also include health related data such as body mass index, blood pressure, weight, etc.\n",
        "df.info()"
      ],
      "metadata": {
        "colab": {
          "base_uri": "https://localhost:8080/"
        },
        "id": "GQZXwR4yTeU_",
        "outputId": "416c80d5-7d2d-4e60-c27e-42a96e458b32"
      },
      "execution_count": 3,
      "outputs": [
        {
          "output_type": "stream",
          "name": "stdout",
          "text": [
            "<class 'pandas.core.frame.DataFrame'>\n",
            "RangeIndex: 5735 entries, 0 to 5734\n",
            "Data columns (total 21 columns):\n",
            " #   Column     Non-Null Count  Dtype  \n",
            "---  ------     --------------  -----  \n",
            " 0   ALQ101     5208 non-null   float64\n",
            " 1   CIGSMK     5735 non-null   int64  \n",
            " 2   GENDER     5735 non-null   int64  \n",
            " 3   AGE        5735 non-null   int64  \n",
            " 4   RACE       5735 non-null   int64  \n",
            " 5   DMDCITZN   5734 non-null   float64\n",
            " 6   EDUCATION  5735 non-null   float64\n",
            " 7   DMDMARTL   5474 non-null   float64\n",
            " 8   DMDHHSIZ   5735 non-null   int64  \n",
            " 9   INDFMPIR   5134 non-null   float64\n",
            " 10  SBP        5401 non-null   float64\n",
            " 11  DBP        5401 non-null   float64\n",
            " 12  BPXSY2     5535 non-null   float64\n",
            " 13  BPXDI2     5535 non-null   float64\n",
            " 14  WEIGHT     5666 non-null   float64\n",
            " 15  BMXHT      5673 non-null   float64\n",
            " 16  BMI        5662 non-null   float64\n",
            " 17  BMXLEG     5345 non-null   float64\n",
            " 18  BMXARML    5427 non-null   float64\n",
            " 19  BMXARMC    5427 non-null   float64\n",
            " 20  BMXWAIST   5368 non-null   float64\n",
            "dtypes: float64(16), int64(5)\n",
            "memory usage: 941.0 KB\n"
          ]
        }
      ]
    },
    {
      "cell_type": "code",
      "source": [
        "# Observe class imbalance \n",
        "\n",
        "df['CIGSMK'].value_counts()"
      ],
      "metadata": {
        "colab": {
          "base_uri": "https://localhost:8080/"
        },
        "id": "vfwIvGz3rzGn",
        "outputId": "0277bcdb-69f8-4855-b7c3-b9282a4e9fbc"
      },
      "execution_count": 4,
      "outputs": [
        {
          "output_type": "execute_result",
          "data": {
            "text/plain": [
              "0    3416\n",
              "1    2319\n",
              "Name: CIGSMK, dtype: int64"
            ]
          },
          "metadata": {},
          "execution_count": 4
        }
      ]
    },
    {
      "cell_type": "markdown",
      "source": [
        "Dataset is imbalanced with 40.4% smokers and 59.6% non-smokers."
      ],
      "metadata": {
        "id": "_9c0d8FROs-z"
      }
    },
    {
      "cell_type": "code",
      "source": [
        "# Visualize class imbalance\n",
        "f, ax = plt.subplots(figsize=(7, 5))\n",
        "sns.countplot(x='CIGSMK', data=df)\n",
        "_ = plt.title('# Smoker vs NonSmoker')\n",
        "_ = plt.xlabel('Class (1=Smoker, 0=NonSmoker)')"
      ],
      "metadata": {
        "colab": {
          "base_uri": "https://localhost:8080/",
          "height": 350
        },
        "id": "uV4jaCSxgzSc",
        "outputId": "edabc655-65e5-4e89-eb57-b310141074d2"
      },
      "execution_count": 5,
      "outputs": [
        {
          "output_type": "display_data",
          "data": {
            "text/plain": [
              "<Figure size 504x360 with 1 Axes>"
            ],
            "image/png": "[encoded data removed]"
          },
          "metadata": {
            "needs_background": "light"
          }
        }
      ]
    },
    {
      "cell_type": "markdown",
      "source": [
        "## Model Pre-Processing <a name=\"mpp\"></a>"
      ],
      "metadata": {
        "id": "bzj9enmiuApg"
      }
    },
    {
      "cell_type": "code",
      "source": [
        "# Put all independent variables into array for modeling \n",
        "\n",
        "X = np.asarray(df.loc[ : , df.columns != 'CIGSMK'])\n",
        "\n",
        "# Impute all missing values (nan) in dataset with mean averages using SimpleImputer\n",
        "\n",
        "F = SimpleImputer().fit_transform(X)\n",
        "\n",
        "X=F\n",
        "\n",
        "X[0:5]"
      ],
      "metadata": {
        "colab": {
          "base_uri": "https://localhost:8080/"
        },
        "id": "oX4g_GIXtPfA",
        "outputId": "c40e4f57-2918-4340-bdfe-5aca043558f3"
      },
      "execution_count": 6,
      "outputs": [
        {
          "output_type": "execute_result",
          "data": {
            "text/plain": [
              "array([[  1.  ,   1.  ,  62.  ,   3.  ,   1.  ,   5.  ,   1.  ,   2.  ,\n",
              "          4.39, 128.  ,  70.  , 124.  ,  64.  ,  94.8 , 184.5 ,  27.8 ,\n",
              "         43.3 ,  43.6 ,  35.9 , 101.1 ],\n",
              "       [  1.  ,   1.  ,  53.  ,   3.  ,   2.  ,   3.  ,   3.  ,   1.  ,\n",
              "          1.32, 146.  ,  88.  , 140.  ,  88.  ,  90.4 , 171.4 ,  30.8 ,\n",
              "         38.  ,  40.  ,  33.2 , 107.9 ],\n",
              "       [  1.  ,   1.  ,  78.  ,   3.  ,   1.  ,   3.  ,   1.  ,   2.  ,\n",
              "          1.51, 138.  ,  46.  , 132.  ,  44.  ,  83.4 , 170.1 ,  28.8 ,\n",
              "         35.6 ,  37.  ,  31.  , 116.5 ],\n",
              "       [  2.  ,   2.  ,  56.  ,   3.  ,   1.  ,   5.  ,   6.  ,   1.  ,\n",
              "          5.  , 132.  ,  72.  , 134.  ,  68.  , 109.8 , 160.9 ,  42.4 ,\n",
              "         38.5 ,  37.7 ,  38.3 , 110.1 ],\n",
              "       [  2.  ,   2.  ,  42.  ,   4.  ,   1.  ,   4.  ,   3.  ,   5.  ,\n",
              "          1.23, 100.  ,  70.  , 114.  ,  54.  ,  55.2 , 164.9 ,  20.3 ,\n",
              "         37.4 ,  36.  ,  27.2 ,  80.4 ]])"
            ]
          },
          "metadata": {},
          "execution_count": 6
        }
      ]
    },
    {
      "cell_type": "code",
      "source": [
        "# Create array for outcome Smoker = 1, Non-Smoker =0\n",
        "\n",
        "y = np.asarray(df['CIGSMK'])\n",
        "y[0:5]"
      ],
      "metadata": {
        "colab": {
          "base_uri": "https://localhost:8080/"
        },
        "id": "jhsHTTxNuAAQ",
        "outputId": "43f70990-1692-4450-ce20-c1352c18a3a0"
      },
      "execution_count": 7,
      "outputs": [
        {
          "output_type": "execute_result",
          "data": {
            "text/plain": [
              "array([1, 1, 1, 0, 0])"
            ]
          },
          "metadata": {},
          "execution_count": 7
        }
      ]
    },
    {
      "cell_type": "code",
      "source": [
        "#Normalize Data (scale values to a common range)\n",
        "\n",
        "X = preprocessing.StandardScaler().fit(X).transform(X)\n",
        "X[0:5]"
      ],
      "metadata": {
        "colab": {
          "base_uri": "https://localhost:8080/"
        },
        "id": "gVgCKPKyubQD",
        "outputId": "5bf6576b-51e0-4c1f-f5cc-3e28fd3f1526"
      },
      "execution_count": 8,
      "outputs": [
        {
          "output_type": "execute_result",
          "data": {
            "text/plain": [
              "array([[-0.69839837, -1.03858157,  0.75681717, -0.03267685, -0.3771124 ,\n",
              "         1.19315961, -0.7043875 , -0.76763488,  1.3109106 ,  0.16257113,\n",
              "         0.0386901 , -0.04302422, -0.41795336,  0.62212634,  1.83136713,\n",
              "        -0.22442537,  1.26334502,  2.36869835,  0.54404513,  0.09406643],\n",
              "       [-0.69839837, -1.03858157,  0.26846715, -0.03267685,  1.65709502,\n",
              "        -0.36360762,  0.16063037, -1.34750659, -0.71471045,  1.16630797,\n",
              "         1.47872622,  0.83612327,  1.45813384,  0.41871623,  0.52447096,\n",
              "         0.20110702, -0.15427506,  1.04725139,  0.01712772,  0.51137931],\n",
              "       [-0.69839837, -1.03858157,  1.62499498, -0.03267685, -0.3771124 ,\n",
              "        -0.36360762, -0.7043875 , -0.76763488, -0.58934628,  0.72020271,\n",
              "        -1.88135806,  0.39654952, -1.98135937,  0.09510923,  0.39477897,\n",
              "        -0.08258124, -0.79621623, -0.05395442, -0.41221239,  1.03915738],\n",
              "       [ 1.37766255,  0.96285167,  0.43125049, -0.03267685, -0.3771124 ,\n",
              "         1.19315961,  1.45815718, -1.34750659,  1.71339556,  0.38562376,\n",
              "         0.19869412,  0.50644296, -0.10527216,  1.31556991, -0.52304125,\n",
              "         1.84649891, -0.02053731,  0.2029936 ,  1.01241616,  0.64639231],\n",
              "       [ 1.37766255,  0.96285167, -0.3284051 ,  0.73852365, -0.3771124 ,\n",
              "         0.41477599,  0.16063037,  0.97198025, -0.77409348, -1.39879728,\n",
              "         0.0386901 , -0.5924914 , -1.19965637, -1.20856469, -0.12398898,\n",
              "        -1.28825634, -0.31476035, -0.42102302, -1.15379986, -1.17628309]])"
            ]
          },
          "metadata": {},
          "execution_count": 8
        }
      ]
    },
    {
      "cell_type": "markdown",
      "source": [
        "## Create Train/Test Datasets"
      ],
      "metadata": {
        "id": "OwWnl8wFu_TW"
      }
    },
    {
      "cell_type": "code",
      "source": [
        "# Split data into test and train datasets to feed into LR model\n",
        "# Testing set is 20%, Training 80%\n",
        "from pandas.core.common import random_state\n",
        "from sklearn.model_selection import train_test_split\n",
        "X_train, X_test, y_train, y_test = train_test_split( X, y, test_size=0.2, random_state=42)\n",
        "print ('Train set:', X_train.shape, y_train.shape)\n",
        "print ('Test set:', X_test.shape, y_test.shape)"
      ],
      "metadata": {
        "colab": {
          "base_uri": "https://localhost:8080/"
        },
        "id": "Bfff6_oCvJno",
        "outputId": "0ff0886e-fb42-47d6-9e5b-dd7e8db507e9"
      },
      "execution_count": 9,
      "outputs": [
        {
          "output_type": "stream",
          "name": "stdout",
          "text": [
            "Train set: (4588, 20) (4588,)\n",
            "Test set: (1147, 20) (1147,)\n"
          ]
        }
      ]
    },
    {
      "cell_type": "markdown",
      "source": [
        "## Logistic Regression Model <a name=\"lrm\"></a>"
      ],
      "metadata": {
        "id": "_Xmj9d5OvK8l"
      }
    },
    {
      "cell_type": "code",
      "source": [
        "# Create model and tune parameters\n",
        "# Add custom weights in order to account for imbalanced data\n",
        "from sklearn.linear_model import LogisticRegression\n",
        "from sklearn.metrics import confusion_matrix\n",
        "weights= {0:40, 1:60}\n",
        "LR = LogisticRegression(C=0.01, solver='liblinear', class_weight= weights).fit(X_train,y_train)\n",
        "LR"
      ],
      "metadata": {
        "colab": {
          "base_uri": "https://localhost:8080/"
        },
        "id": "MECZtF8YvQDM",
        "outputId": "00d4a763-c20a-4dc7-a22e-25e2862ae212"
      },
      "execution_count": 10,
      "outputs": [
        {
          "output_type": "execute_result",
          "data": {
            "text/plain": [
              "LogisticRegression(C=0.01, class_weight={0: 40, 1: 60}, solver='liblinear')"
            ]
          },
          "metadata": {},
          "execution_count": 10
        }
      ]
    },
    {
      "cell_type": "code",
      "source": [
        "# Obtain test predictions \n",
        "yhat = LR.predict(X_test)\n",
        "yhat"
      ],
      "metadata": {
        "colab": {
          "base_uri": "https://localhost:8080/"
        },
        "id": "evkMgieizfnS",
        "outputId": "7b464a8f-2988-4d20-bfaa-8e882ba12796"
      },
      "execution_count": 11,
      "outputs": [
        {
          "output_type": "execute_result",
          "data": {
            "text/plain": [
              "array([1, 1, 0, ..., 0, 1, 0])"
            ]
          },
          "metadata": {},
          "execution_count": 11
        }
      ]
    },
    {
      "cell_type": "code",
      "source": [
        "yhat.shape"
      ],
      "metadata": {
        "colab": {
          "base_uri": "https://localhost:8080/"
        },
        "id": "8Ufod_KLzjY6",
        "outputId": "86350c27-d341-4f65-8ae2-438c98a7c0d9"
      },
      "execution_count": 12,
      "outputs": [
        {
          "output_type": "execute_result",
          "data": {
            "text/plain": [
              "(1147,)"
            ]
          },
          "metadata": {},
          "execution_count": 12
        }
      ]
    },
    {
      "cell_type": "code",
      "source": [
        "# Get yhat prediction counts\n",
        "pd.value_counts(yhat)"
      ],
      "metadata": {
        "colab": {
          "base_uri": "https://localhost:8080/"
        },
        "id": "SbO6n5ZQqjuw",
        "outputId": "feec0cff-e429-4fb8-d1f9-3d68eb807f54"
      },
      "execution_count": 13,
      "outputs": [
        {
          "output_type": "execute_result",
          "data": {
            "text/plain": [
              "0    612\n",
              "1    535\n",
              "dtype: int64"
            ]
          },
          "metadata": {},
          "execution_count": 13
        }
      ]
    },
    {
      "cell_type": "markdown",
      "source": [
        "Returns probability estimates for being a smoker. The first column are non-smokers (0), and the second column are smokers (1). "
      ],
      "metadata": {
        "id": "GL6hYVnBztm2"
      }
    },
    {
      "cell_type": "code",
      "source": [
        "# Obtain probability predictions for test data\n",
        "yhat_prob = LR.predict_proba(X_test)\n",
        "yhat_prob"
      ],
      "metadata": {
        "colab": {
          "base_uri": "https://localhost:8080/"
        },
        "id": "RDeIbJmEzvFV",
        "outputId": "1aa64645-5ddb-4659-b182-51e021b8ea9b"
      },
      "execution_count": 14,
      "outputs": [
        {
          "output_type": "execute_result",
          "data": {
            "text/plain": [
              "array([[0.40305896, 0.59694104],\n",
              "       [0.41319556, 0.58680444],\n",
              "       [0.56371412, 0.43628588],\n",
              "       ...,\n",
              "       [0.92016826, 0.07983174],\n",
              "       [0.31059622, 0.68940378],\n",
              "       [0.69088621, 0.30911379]])"
            ]
          },
          "metadata": {},
          "execution_count": 14
        }
      ]
    },
    {
      "cell_type": "code",
      "source": [
        "yhat_prob.shape"
      ],
      "metadata": {
        "colab": {
          "base_uri": "https://localhost:8080/"
        },
        "id": "xmgnsVuj3uVq",
        "outputId": "0d0ea0fe-d36d-4739-f513-16b9d1459abb"
      },
      "execution_count": 15,
      "outputs": [
        {
          "output_type": "execute_result",
          "data": {
            "text/plain": [
              "(1147, 2)"
            ]
          },
          "metadata": {},
          "execution_count": 15
        }
      ]
    },
    {
      "cell_type": "markdown",
      "source": [
        "## Confusion Matrix "
      ],
      "metadata": {
        "id": "tuue5aLgPkmS"
      }
    },
    {
      "cell_type": "code",
      "source": [
        "# Classification Matrix Configuration and Plot\n",
        "\n",
        "from sklearn.metrics import classification_report, confusion_matrix\n",
        "import itertools\n",
        "def plot_confusion_matrix(cm, classes,\n",
        "                          normalize=False,\n",
        "                          title='Confusion matrix',\n",
        "                          cmap=plt.cm.Greens):\n",
        "\n",
        "    if normalize:\n",
        "        cm = cm.astype('float') / cm.sum(axis=1)[:, np.newaxis]\n",
        "        print(\"Normalized confusion matrix\")\n",
        "    else:\n",
        "        print('Confusion matrix, without normalization')\n",
        "\n",
        "    print(cm)\n",
        "\n",
        "    plt.imshow(cm, interpolation='nearest', cmap=cmap)\n",
        "    plt.title(title)\n",
        "    plt.colorbar()\n",
        "    tick_marks = np.arange(len(classes))\n",
        "    plt.xticks(tick_marks, classes, rotation=45)\n",
        "    plt.yticks(tick_marks, classes)\n",
        "\n",
        "    fmt = '.2f' if normalize else 'd'\n",
        "    thresh = cm.max() / 2.\n",
        "    for i, j in itertools.product(range(cm.shape[0]), range(cm.shape[1])):\n",
        "        plt.text(j, i, format(cm[i, j], fmt),\n",
        "                 horizontalalignment=\"center\",\n",
        "                 color=\"black\" if cm[i, j] > thresh else \"black\")\n",
        "\n",
        "    plt.tight_layout()\n",
        "    plt.ylabel('True label')\n",
        "    plt.xlabel('Predicted label')\n",
        "print(confusion_matrix(y_test, yhat, labels=[1,0]))"
      ],
      "metadata": {
        "colab": {
          "base_uri": "https://localhost:8080/"
        },
        "id": "AomgfeJJ7cC1",
        "outputId": "75b26735-bd40-49f6-90f9-5fcab2c33cc1"
      },
      "execution_count": 21,
      "outputs": [
        {
          "output_type": "stream",
          "name": "stdout",
          "text": [
            "[[319 151]\n",
            " [216 461]]\n"
          ]
        }
      ]
    },
    {
      "cell_type": "code",
      "source": [
        "# Compute confusion matrix\n",
        "cnf_matrix = confusion_matrix(y_test, yhat, labels=[1,0])\n",
        "np.set_printoptions(precision=2)\n",
        "\n",
        "\n",
        "# Plot non-normalized confusion matrix\n",
        "plt.figure()\n",
        "plot_confusion_matrix(cnf_matrix, classes=['smoker=1','non-smoker=0'],normalize= False,  title='Confusion matrix')"
      ],
      "metadata": {
        "colab": {
          "base_uri": "https://localhost:8080/",
          "height": 363
        },
        "id": "ETVTpHjI7Rja",
        "outputId": "5717515b-1f49-49a0-b3f3-1c0fb574d156"
      },
      "execution_count": 22,
      "outputs": [
        {
          "output_type": "stream",
          "name": "stdout",
          "text": [
            "Confusion matrix, without normalization\n",
            "[[319 151]\n",
            " [216 461]]\n"
          ]
        },
        {
          "output_type": "display_data",
          "data": {
            "text/plain": [
              "<Figure size 432x288 with 2 Axes>"
            ],
            "image/png": "[encoded data removed]"
          },
          "metadata": {
            "needs_background": "light"
          }
        }
      ]
    },
    {
      "cell_type": "code",
      "source": [
        "tn, fp, fn, tp = cnf_matrix.ravel()\n",
        "s = \"\"\"\n",
        "True Negatives: {3}\n",
        "False Positives {2}\n",
        "False Negatives {1}\n",
        "True Positives {0}\n",
        "\"\"\".format(tn, fp, fn, tp)\n",
        "\n",
        "print(s)"
      ],
      "metadata": {
        "colab": {
          "base_uri": "https://localhost:8080/"
        },
        "id": "befbkAlvkLzm",
        "outputId": "8b7248f2-ffcf-4f49-8c51-16726a24e68a"
      },
      "execution_count": 18,
      "outputs": [
        {
          "output_type": "stream",
          "name": "stdout",
          "text": [
            "\n",
            "True Negatives: 461\n",
            "False Positives 216\n",
            "False Negatives 151\n",
            "True Positives 319\n",
            "\n"
          ]
        }
      ]
    },
    {
      "cell_type": "markdown",
      "source": [
        "The confusion matrix visually displays the binary classifier's ability to correctly predict the classes (1=smoker, 0=nonsmoker). Out of 1,147 test respondents, the classifier correctly predicted 319 as 1 but incorrectly predicted 151 as 0. The classifier correctly predicted 461 as 0, and 216 of them incorrectly as 1."
      ],
      "metadata": {
        "id": "Ev0VAy2bLJwU"
      }
    },
    {
      "cell_type": "markdown",
      "source": [
        "## Model Accuracy Evaluation <a name=\"mae\"></a>"
      ],
      "metadata": {
        "id": "k_THXSaSPvnh"
      }
    },
    {
      "cell_type": "markdown",
      "source": [
        "## Classification Report "
      ],
      "metadata": {
        "id": "yMHVdltFPcTZ"
      }
    },
    {
      "cell_type": "markdown",
      "source": [
        "The metrics below can be used to help understand how well our model is able to predict those who smoke."
      ],
      "metadata": {
        "id": "Gl6-0VnIYJbD"
      }
    },
    {
      "cell_type": "markdown",
      "source": [
        "$Precision$ = $Positive$ $Predictive$ $Value$ = $\\frac{TP}{TP + FP}$"
      ],
      "metadata": {
        "id": "diYsy0oylhRk"
      }
    },
    {
      "cell_type": "markdown",
      "source": [
        "$Recall$ = $Sensitivity$ = $True$ $Positive$ $Rate$ = $\\frac{TP}{TP + FN}$"
      ],
      "metadata": {
        "id": "VkqZY9R1eJ3N"
      }
    },
    {
      "cell_type": "markdown",
      "source": [
        "$Accuracy$ =  $\\frac{TP + TN}{TP + TN + FP + FN}$"
      ],
      "metadata": {
        "id": "BMaZ9IlLqTSG"
      }
    },
    {
      "cell_type": "markdown",
      "source": [
        "$F1-Score$ = Average of Precision and Recall, the closer to 1, the better the model.  "
      ],
      "metadata": {
        "id": "FCD-Oaq8RAP1"
      }
    },
    {
      "cell_type": "code",
      "source": [
        "print (classification_report(y_test, yhat, target_names=['nonsmoker', 'smoker']))"
      ],
      "metadata": {
        "colab": {
          "base_uri": "https://localhost:8080/"
        },
        "id": "4JA52wjx87YE",
        "outputId": "6f9e372e-c99c-46e3-8c2a-740f9d1fd4e4"
      },
      "execution_count": 19,
      "outputs": [
        {
          "output_type": "stream",
          "name": "stdout",
          "text": [
            "              precision    recall  f1-score   support\n",
            "\n",
            "   nonsmoker       0.75      0.68      0.72       677\n",
            "      smoker       0.60      0.68      0.63       470\n",
            "\n",
            "    accuracy                           0.68      1147\n",
            "   macro avg       0.67      0.68      0.68      1147\n",
            "weighted avg       0.69      0.68      0.68      1147\n",
            "\n"
          ]
        }
      ]
    },
    {
      "cell_type": "markdown",
      "source": [
        "**Precision:** Out of all the people that the model predicted would be a smoker, only 60% were.\n",
        "\n",
        "**Recall:** Out of all the people who were true smokers, the model only predicted this outcome correctly for 67% of those people.\n",
        "\n",
        "**F1-score:** A smoker F1-score of 0.63 tells us that the model does a moderate job of predicting whether or not people will be a smoker. \n",
        "\n",
        "The average accuracy for this logistic regression classifier is 68%. The ideal model would have significantly higher accuracy."
      ],
      "metadata": {
        "id": "FNU0wxDBPuo3"
      }
    },
    {
      "cell_type": "markdown",
      "source": [
        "## ROC/AUC"
      ],
      "metadata": {
        "id": "MzoEBGArP5I-"
      }
    },
    {
      "cell_type": "code",
      "source": [
        "# Plot ROC/AUC (visualizes model performance)\n",
        "# Percentage of correct predictions\n",
        "\n",
        "from sklearn.metrics._plot.roc_curve import plot_roc_curve\n",
        "disp = plot_roc_curve(LR, X_test, y_test)"
      ],
      "metadata": {
        "colab": {
          "base_uri": "https://localhost:8080/",
          "height": 334
        },
        "id": "a37hch6YUNIX",
        "outputId": "a9ec0ada-9f38-449f-83e6-2d2c7c6df1d1"
      },
      "execution_count": 20,
      "outputs": [
        {
          "output_type": "stream",
          "name": "stderr",
          "text": [
            "/usr/local/lib/python3.7/dist-packages/sklearn/utils/deprecation.py:87: FutureWarning: Function plot_roc_curve is deprecated; Function :func:`plot_roc_curve` is deprecated in 1.0 and will be removed in 1.2. Use one of the class methods: :meth:`sklearn.metric.RocCurveDisplay.from_predictions` or :meth:`sklearn.metric.RocCurveDisplay.from_estimator`.\n",
            "  warnings.warn(msg, category=FutureWarning)\n"
          ]
        },
        {
          "output_type": "display_data",
          "data": {
            "text/plain": [
              "<Figure size 432x288 with 1 Axes>"
            ],
            "image/png": "[encoded data removed]"
          },
          "metadata": {
            "needs_background": "light"
          }
        }
      ]
    },
    {
      "cell_type": "markdown",
      "source": [
        "Based on the ROC curve and AUC value of 0.75, this classifier has a 75% chance of segregating the binary classes correctly. \n",
        "\n",
        "Note: A model with an AUC score of 0.5 is no better than a model that performs random guessing."
      ],
      "metadata": {
        "id": "wsRupBf3mnnl"
      }
    },
    {
      "cell_type": "markdown",
      "source": [
        "## Conclusions <a name=\"con\"></a>"
      ],
      "metadata": {
        "id": "lvmV3mm6QB8D"
      }
    },
    {
      "cell_type": "markdown",
      "source": [
        "A logistic regression classification model was built to predict the binary smoking outcome based on 20 health-related predictor variables. These variables were normalized to scale them to a common range for modeling. There was a class imbalanced observed in the dataset and the class weight adjustment technique was utilized to account for this.\n",
        "\n",
        "The confusion matrix visually displays the binary classifier's ability to correctly predict the classes (1=smoker, 0=nonsmoker). Out of all the people that the model predicted would be a smoker, only 60% were. Out of all the people who were true smokers, the model only predicted this outcome correctly for 67% of those people. The average accuracy for this logistic regression classifier is 68%.\n",
        "\n",
        "Based on the accuracy (68%) and ROC/AUC (0.75) of this classifier, I recommend further modeling to obtain higher accuracy. Next steps would include comparing additional classifiers to see which one would perform better on our test data. In addition to trying another classification algorithm, oversampling/under sampling, decision threshold moving, and other parameter tuning can also be utilized to improve model performance.\n",
        "\n",
        "\n"
      ],
      "metadata": {
        "id": "iKUSzs88QE-9"
      }
    }
  ]
}